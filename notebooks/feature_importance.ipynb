{
 "cells": [
  {
   "cell_type": "code",
   "execution_count": null,
   "metadata": {},
   "outputs": [],
   "source": [
    "#Feature importance\n",
    "#catboost\n",
    "import numpy as np\n",
    "import pandas as pd\n",
    "import os\n",
    "import joblib\n",
    "X_train = pd.read_csv('~/Library/CloudStorage/OneDrive-国立大学法人東海国立大学機構/Weekly_challenges/Data science and Analytics/Predict online behavior kaggle/Data/processed/x_train_online_gaming_behavior_dataset.csv')\n",
    "logs_dir = \"results/logs\"\n",
    "os.makedirs(logs_dir, exist_ok=True)\n",
    "model_path = os.path.join(logs_dir, f\"CatBoost_model.pkl\")\n",
    "model=joblib.load(model_path)\n",
    "\n",
    "# Get feature importance\n",
    "catboost_importance = model.get_feature_importance()\n",
    "\n",
    "# Convert to DataFrame\n",
    "feature_importance_df = pd.DataFrame({\n",
    "    'Feature': X_train.columns,\n",
    "    'Importance': catboost_importance\n",
    "}).sort_values(by=\"Importance\", ascending=False)\n",
    "\n",
    "# Display results\n",
    "import ace_tools as tools\n",
    "tools.display_dataframe_to_user(name=\"CatBoost Feature Importance\", dataframe=feature_importance_df)\n"
   ]
  }
 ],
 "metadata": {
  "kernelspec": {
   "display_name": "Python 3",
   "language": "python",
   "name": "python3"
  },
  "language_info": {
   "name": "python",
   "version": "3.12.4"
  }
 },
 "nbformat": 4,
 "nbformat_minor": 2
}
